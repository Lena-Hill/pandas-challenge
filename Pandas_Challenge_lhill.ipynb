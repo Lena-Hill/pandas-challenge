{
 "cells": [
  {
   "cell_type": "markdown",
   "metadata": {},
   "source": [
    "Pandas Challenge       Lena Hill                 "
   ]
  },
  {
   "cell_type": "code",
   "execution_count": null,
   "metadata": {},
   "outputs": [],
   "source": [
    "# Dependencies and Setup\n",
    "import pandas as pd\n",
    "from pathlib import Path\n",
    "\n",
    "# Load the files\n",
    "school_data_to_load = Path(r\"C:\\Users\\lenar\\OneDrive\\Documents\\Data Bootcamp\\pandas-challenge\\Starter_Code\\Starter_Code\\PyCitySchools\\Resources\\schools_complete.csv\")\n",
    "student_data_to_load = Path(r\"C:\\Users\\lenar\\OneDrive\\Documents\\Data Bootcamp\\pandas-challenge\\Starter_Code\\Starter_Code\\PyCitySchools\\Resources\\students_complete.csv\")\n",
    "\n",
    "# Read the files and store in DataFrame\n",
    "school_data = pd.read_csv(school_data_to_load)\n",
    "student_data = pd.read_csv(student_data_to_load)\n",
    "\n",
    "# Combine the data  \n",
    "school_data_complete = pd.merge(student_data, school_data, how=\"left\", on=[\"school_name\", \"school_name\"])\n",
    "school_data_complete.head()"
   ]
  },
  {
   "cell_type": "markdown",
   "metadata": {},
   "source": [
    "District Summary"
   ]
  },
  {
   "cell_type": "code",
   "execution_count": null,
   "metadata": {},
   "outputs": [],
   "source": [
    "# Calculate the total number of unique schools\n",
    "total_schools = school_data_complete['school_name'].nunique()\n",
    "\n",
    "print(\"Total Schools\")\n",
    "total_schools"
   ]
  },
  {
   "cell_type": "code",
   "execution_count": null,
   "metadata": {},
   "outputs": [],
   "source": [
    "# Calculate the total number of students\n",
    "total_students = school_data_complete['Student ID'].nunique()\n",
    "\n",
    "print(\"Total Students\")\n",
    "total_students\n"
   ]
  },
  {
   "cell_type": "code",
   "execution_count": null,
   "metadata": {},
   "outputs": [],
   "source": [
    "# Calculate the total budget\n",
    "total_budget = school_data_complete['budget'].unique().sum()\n",
    "\n",
    "print(\"Total Budget\")\n",
    "total_budget"
   ]
  },
  {
   "cell_type": "code",
   "execution_count": null,
   "metadata": {},
   "outputs": [],
   "source": [
    "# Calculate the average math score\n",
    "average_math_score = school_data_complete['math_score'].mean()\n",
    "\n",
    "print(\"Average Math Score\")\n",
    "average_math_score"
   ]
  },
  {
   "cell_type": "code",
   "execution_count": null,
   "metadata": {},
   "outputs": [],
   "source": [
    "# Calculate average reading score\n",
    "average_reading_score = school_data_complete['reading_score'].mean()\n",
    "\n",
    "print(\"Average Reading Score\")\n",
    "average_reading_score "
   ]
  },
  {
   "cell_type": "code",
   "execution_count": null,
   "metadata": {},
   "outputs": [],
   "source": [
    "# Calculate percentage passing math\n",
    "percent_passing_math = (school_data_complete['math_score'] >= 70).mean() * 100\n",
    "\n",
    "print(\"% Passing Math\")\n",
    "percent_passing_math\n"
   ]
  },
  {
   "cell_type": "code",
   "execution_count": null,
   "metadata": {},
   "outputs": [],
   "source": [
    "# Calculate percentage passing reading \n",
    "percent_passing_reading = (school_data_complete['reading_score']>= 70).mean()*100\n",
    "\n",
    "print(\"% Passing Reading\")\n",
    "percent_passing_reading"
   ]
  },
  {
   "cell_type": "code",
   "execution_count": null,
   "metadata": {},
   "outputs": [],
   "source": [
    "# Calculate percentage passing math and reading\n",
    "percent_overall_passing = ((school_data_complete['math_score'] >= 70) & (school_data_complete['reading_score'] >= 70)).mean() * 100\n",
    "\n",
    "print(\"% Passing Math & Reading\")\n",
    "percent_overall_passing"
   ]
  },
  {
   "cell_type": "code",
   "execution_count": null,
   "metadata": {},
   "outputs": [],
   "source": [
    "# Create a dictionary with key metrics\n",
    "district_summary_data = {\n",
    "    \"Total Schools\": [total_schools],\n",
    "    \"Total Students\": [total_students],\n",
    "    \"Total Budget\": [total_budget],\n",
    "    \"Average Math Score\": [average_math_score],\n",
    "    \"Average Reading Score\": [average_reading_score],\n",
    "    \"% Passing Math\": [percent_passing_math],\n",
    "    \"% Passing Reading\": [percent_passing_reading],\n",
    "    \"% Overall Passing\": [percent_overall_passing]}\n",
    "\n",
    "# Create the district_summary DataFrame\n",
    "district_summary = pd.DataFrame(district_summary_data)\n",
    "\n",
    "print(\"District Summary\")\n",
    "district_summary"
   ]
  },
  {
   "cell_type": "markdown",
   "metadata": {},
   "source": [
    "School Summary"
   ]
  },
  {
   "cell_type": "code",
   "execution_count": null,
   "metadata": {},
   "outputs": [],
   "source": [
    "# Group the data by school name (I guess?)\n",
    "grouped_schools = school_data_complete.groupby('school_name')\n",
    "\n",
    "# Calculate key metrics for each school\n",
    "school_summary = pd.DataFrame({\n",
    "    'School Type': grouped_schools['type'].first(),\n",
    "    'Total Students': grouped_schools['Student ID'].nunique(),\n",
    "    'Total School Budget': grouped_schools['budget'].mean(),\n",
    "    'Per Student Budget': grouped_schools['budget'].mean() / grouped_schools['Student ID'].nunique(),\n",
    "    'Average Math Score': grouped_schools['math_score'].mean(),\n",
    "    'Average Reading Score': grouped_schools['reading_score'].mean(),\n",
    "    '% Passing Math': (grouped_schools['math_score'].apply(lambda x: (x >= 70).mean()) * 100).round(2),\n",
    "    '% Passing Reading': (grouped_schools['reading_score'].apply(lambda x: (x >= 70).mean()) * 100).round(2),\n",
    "    '% Overall Passing': (grouped_schools.apply(lambda x: ((x['math_score'] >= 70) & (x['reading_score'] >= 70)).mean()) * 100).round(2)})\n",
    "\n",
    "   \n",
    "print(\"School Summary\")\n",
    "school_summary"
   ]
  },
  {
   "cell_type": "markdown",
   "metadata": {},
   "source": [
    "Top-Performing Schools"
   ]
  },
  {
   "cell_type": "code",
   "execution_count": null,
   "metadata": {},
   "outputs": [],
   "source": [
    "# Sort the schools by % overall passing in descending order\n",
    "top_schools = school_summary.sort_values(by= '% Overall Passing', ascending=False)\n",
    "\n",
    "print(\"Top-Performing Schools\")\n",
    "top_schools.head()"
   ]
  },
  {
   "cell_type": "markdown",
   "metadata": {},
   "source": [
    "Bottom-Performing Schools"
   ]
  },
  {
   "cell_type": "code",
   "execution_count": null,
   "metadata": {},
   "outputs": [],
   "source": [
    "# Sort the schools by % overall passing in ascending order\n",
    "bottom_schools = school_summary.sort_values(by='% Overall Passing').head(5)\n",
    "\n",
    "print(\"Bottom-Performing Schools\")\n",
    "bottom_schools"
   ]
  },
  {
   "cell_type": "markdown",
   "metadata": {},
   "source": [
    "Math Scores by Grade"
   ]
  },
  {
   "cell_type": "code",
   "execution_count": null,
   "metadata": {},
   "outputs": [],
   "source": [
    "# Group the data by school name and grade\n",
    "grouped_grades = school_data_complete.groupby(['school_name', 'grade'])\n",
    "\n",
    "# Calculate the average math score for each grade at each school\n",
    "average_math_by_grade = pd.DataFrame({\n",
    "    '9th Grade': grouped_grades['math_score'].mean().loc[:, '9th'].round(2),\n",
    "    '10th Grade': grouped_grades['math_score'].mean().loc[:, '10th'].round(2),\n",
    "    '11th Grade': grouped_grades['math_score'].mean().loc[:, '11th'].round(2),\n",
    "    '12th Grade': grouped_grades['math_score'].mean().loc[:, '12th'].round(2)})\n",
    "\n",
    "print(\"Math Scores by Grade\")\n",
    "average_math_by_grade"
   ]
  },
  {
   "cell_type": "markdown",
   "metadata": {},
   "source": [
    "Reading Score by Grade"
   ]
  },
  {
   "cell_type": "code",
   "execution_count": null,
   "metadata": {},
   "outputs": [],
   "source": [
    "# Group the data by school name and grade\n",
    "grouped_grades = school_data_complete.groupby(['school_name', 'grade'])\n",
    "\n",
    "# Calculate the average reading score for each grade at each school\n",
    "average_reading_by_grade = pd.DataFrame({\n",
    "    '9th Grade': grouped_grades['reading_score'].mean().loc[:, '9th'].round(2),\n",
    "    '10th Grade': grouped_grades['reading_score'].mean().loc[:, '10th'].round(2),\n",
    "    '11th Grade': grouped_grades['reading_score'].mean().loc[:, '11th'].round(2),\n",
    "    '12th Grade': grouped_grades['reading_score'].mean().loc[:, '12th'].round(2)})\n",
    "\n",
    "print(\"Reading Scores by Grade\")\n",
    "average_reading_by_grade"
   ]
  },
  {
   "cell_type": "markdown",
   "metadata": {},
   "source": [
    "Scores by School Spending"
   ]
  },
  {
   "cell_type": "code",
   "execution_count": null,
   "metadata": {},
   "outputs": [],
   "source": [
    "# Define spending bins and labels\n",
    "spending_bins = [0, 585, 630, 645, 680]\n",
    "labels = [\"<$585\", \"$585-630\", \"$630-645\", \"$645-680\"]"
   ]
  },
  {
   "cell_type": "code",
   "execution_count": null,
   "metadata": {},
   "outputs": [],
   "source": [
    "# Create a copy of the school summary since it has the \"Per Student Budget\" \n",
    "school_spending_df = school_summary.copy()"
   ]
  },
  {
   "cell_type": "code",
   "execution_count": null,
   "metadata": {},
   "outputs": [],
   "source": [
    "# Use `pd.cut` to categorize spending based on the bins.\n",
    "school_spending_df[\"Spending Ranges (Per Student)\"] = pd.cut(\n",
    "    school_spending_df['Per Student Budget'], spending_bins, labels=labels, include_lowest=True)\n",
    "\n",
    "print(\"Scores by School Spending\")\n",
    "school_spending_df.head()"
   ]
  },
  {
   "cell_type": "code",
   "execution_count": null,
   "metadata": {},
   "outputs": [],
   "source": [
    "# Calculate average scores per spending range\n",
    "spending_math_scores = school_spending_df.groupby([\"Spending Ranges (Per Student)\"], observed=True)[\"Average Math Score\"].mean()\n",
    "spending_reading_scores = school_spending_df.groupby([\"Spending Ranges (Per Student)\"], observed=True)[\"Average Reading Score\"].mean()\n",
    "spending_passing_math = school_spending_df.groupby([\"Spending Ranges (Per Student)\"], observed=True)[\"% Passing Math\"].mean()\n",
    "spending_passing_reading = school_spending_df.groupby([\"Spending Ranges (Per Student)\"], observed=True)[\"% Passing Reading\"].mean()\n",
    "overall_passing_spending = school_spending_df.groupby([\"Spending Ranges (Per Student)\"], observed=True)[\"% Overall Passing\"].mean()\n",
    "\n",
    "# Create a dataframe with the average scores\n",
    "spending_summary = pd.DataFrame({\n",
    "    'Average Math Score': spending_math_scores,\n",
    "    'Average Reading Score': spending_reading_scores,\n",
    "    '% Passing Math': spending_passing_math,\n",
    "    '% Passing Reading': spending_passing_reading,\n",
    "    '% Overall Passing': overall_passing_spending})\n",
    "\n",
    "\n",
    "print(\"Average Scores by Spending Range\")\n",
    "spending_summary"
   ]
  },
  {
   "cell_type": "markdown",
   "metadata": {},
   "source": [
    "Scores by School Size "
   ]
  },
  {
   "cell_type": "code",
   "execution_count": null,
   "metadata": {},
   "outputs": [],
   "source": [
    "# Define the bins\n",
    "size_bins = [0, 1000, 2000, 5000]\n",
    "labels = [\"Small (<1000)\", \"Medium (1000-2000)\", \"Large (2000-5000)\"]\n"
   ]
  },
  {
   "cell_type": "code",
   "execution_count": null,
   "metadata": {},
   "outputs": [],
   "source": [
    "school_spending_df[\"School Size\"] = pd.cut(\n",
    "    school_spending_df['Total Students'], size_bins, labels=labels, include_lowest=True)\n",
    "\n",
    "school_spending_df.head()"
   ]
  },
  {
   "cell_type": "code",
   "execution_count": null,
   "metadata": {},
   "outputs": [],
   "source": [
    "# Calculate averages for the desired columns. \n",
    "size_math_scores = school_spending_df.groupby([\"School Size\"], observed=True)[\"Average Math Score\"].mean()\n",
    "size_reading_scores = school_spending_df.groupby([\"School Size\"], observed=True)[\"Average Reading Score\"].mean()\n",
    "size_passing_math = school_spending_df.groupby([\"School Size\"], observed=True)[\"% Passing Math\"].mean()\n",
    "size_passing_reading = school_spending_df.groupby([\"School Size\"], observed=True)[\"% Passing Reading\"].mean()\n",
    "size_overall_passing = school_spending_df.groupby([\"School Size\"], observed=True)[\"% Overall Passing\"].mean()\n",
    "\n"
   ]
  },
  {
   "cell_type": "code",
   "execution_count": null,
   "metadata": {},
   "outputs": [],
   "source": [
    "# Create a DataFrame with the calculated averages\n",
    "size_summary = pd.DataFrame({\n",
    "    'Average Math Score': size_math_scores,\n",
    "    'Average Reading Score': size_reading_scores,\n",
    "    '% Passing Math': size_passing_math,\n",
    "    '% Passing Reading': size_passing_reading,\n",
    "    '% Overall Passing': size_overall_passing})\n",
    "\n",
    "print(\"Scores by School Size\")\n",
    "size_summary\n",
    "\n",
    "\n"
   ]
  },
  {
   "cell_type": "markdown",
   "metadata": {},
   "source": [
    "Scores by School Type"
   ]
  },
  {
   "cell_type": "code",
   "execution_count": null,
   "metadata": {},
   "outputs": [],
   "source": [
    "# Calculate averages for the desired columns by school type\n",
    "type_math_scores = school_spending_df.groupby([\"School Type\"])[\"Average Math Score\"].mean()\n",
    "type_reading_scores = school_spending_df.groupby([\"School Type\"])[\"Average Reading Score\"].mean()\n",
    "type_passing_math = school_spending_df.groupby([\"School Type\"])[\"% Passing Math\"].mean()\n",
    "type_passing_reading = school_spending_df.groupby([\"School Type\"])[\"% Passing Reading\"].mean()\n",
    "type_overall_passing = school_spending_df.groupby([\"School Type\"])[\"% Overall Passing\"].mean()\n"
   ]
  },
  {
   "cell_type": "code",
   "execution_count": null,
   "metadata": {},
   "outputs": [],
   "source": [
    "# Create a DataFrame with the calculated averages\n",
    "\n",
    "type_summary = pd.DataFrame({\n",
    "    'Average Math Score': type_math_scores,\n",
    "    'Average Reading Score': type_reading_scores,\n",
    "    '% Passing Math': type_passing_math,\n",
    "    '% Passing Reading': type_passing_reading,\n",
    "    '% Overall Passing': type_overall_passing})\n",
    "\n",
    "print(\"Scores by School Type\")\n",
    "type_summary"
   ]
  },
  {
   "cell_type": "code",
   "execution_count": null,
   "metadata": {},
   "outputs": [],
   "source": []
  }
 ],
 "metadata": {
  "kernelspec": {
   "display_name": "DataBootcamp",
   "language": "python",
   "name": "python3"
  },
  "language_info": {
   "codemirror_mode": {
    "name": "ipython",
    "version": 3
   },
   "file_extension": ".py",
   "mimetype": "text/x-python",
   "name": "python",
   "nbconvert_exporter": "python",
   "pygments_lexer": "ipython3",
   "version": "3.11.5"
  }
 },
 "nbformat": 4,
 "nbformat_minor": 2
}
